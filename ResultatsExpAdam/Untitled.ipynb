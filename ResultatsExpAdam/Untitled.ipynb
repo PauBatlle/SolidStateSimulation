{
 "cells": [
  {
   "cell_type": "code",
   "execution_count": 37,
   "metadata": {
    "collapsed": true
   },
   "outputs": [],
   "source": [
    "import numpy as np\n",
    "import matplotlib.pyplot as plt"
   ]
  },
  {
   "cell_type": "code",
   "execution_count": 25,
   "metadata": {
    "collapsed": false
   },
   "outputs": [],
   "source": [
    "v_fin = np.zeros([16, 3])\n",
    "for i in range(16):\n",
    "    pos = np.load(\"./XocSimetric\"+str(i)+\"_Sig_1_Eps_1_Niter_7500_tstep_0.001_Integr_Euler/positions.npy\")\n",
    "    vel = np.load(\"./XocSimetric\"+str(i)+\"_Sig_1_Eps_1_Niter_7500_tstep_0.001_Integr_Euler/velocities.npy\")\n",
    "\n",
    "    v_fin[i] = vel[0,:,-1]"
   ]
  },
  {
   "cell_type": "code",
   "execution_count": 40,
   "metadata": {
    "collapsed": false
   },
   "outputs": [],
   "source": [
    "x_eix = np.array([1,0,0])\n",
    "y_eix = np.array([0,1,0])\n",
    "scalar = np.dot(v_fin,x_eix)\n",
    "cosangle = np.divide(scalar, np.linalg.norm(v_fin, axis = 1))\n",
    "sinangle = np.divide(np.dot(v_fin,y_eix), np.linalg.norm(v_fin, axis = 1))"
   ]
  },
  {
   "cell_type": "code",
   "execution_count": 56,
   "metadata": {
    "collapsed": false
   },
   "outputs": [
    {
     "data": {
      "image/png": "[encoded data removed]",
      "text/plain": [
       "<matplotlib.figure.Figure at 0x163f46235c0>"
      ]
     },
     "metadata": {},
     "output_type": "display_data"
    }
   ],
   "source": [
    "plt.plot(np.arctan2(sinangle,cosangle))\n",
    "#plt.plot(np.arccos(cosangle))\n",
    "#plt.plot(np.arcsin(sinangle))\n",
    "plt.show()"
   ]
  },
  {
   "cell_type": "code",
   "execution_count": null,
   "metadata": {
    "collapsed": true
   },
   "outputs": [],
   "source": []
  },
  {
   "cell_type": "code",
   "execution_count": null,
   "metadata": {
    "collapsed": true
   },
   "outputs": [],
   "source": []
  }
 ],
 "metadata": {
  "kernelspec": {
   "display_name": "Python 3",
   "language": "python",
   "name": "python3"
  },
  "language_info": {
   "codemirror_mode": {
    "name": "ipython",
    "version": 3
   },
   "file_extension": ".py",
   "mimetype": "text/x-python",
   "name": "python",
   "nbconvert_exporter": "python",
   "pygments_lexer": "ipython3",
   "version": "3.6.0"
  }
 },
 "nbformat": 4,
 "nbformat_minor": 2
}
