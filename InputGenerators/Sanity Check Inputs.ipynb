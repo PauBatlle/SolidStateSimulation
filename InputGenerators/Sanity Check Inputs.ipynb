{
 "cells": [
  {
   "cell_type": "code",
   "execution_count": 125,
   "metadata": {},
   "outputs": [],
   "source": [
    "import matplotlib.pyplot as plt\n",
    "%matplotlib inline\n",
    "import numpy as np\n",
    "from math import sqrt"
   ]
  },
  {
   "cell_type": "code",
   "execution_count": 186,
   "metadata": {},
   "outputs": [],
   "source": [
    "m = 1 #masses\n",
    "x_1 = 11.4 #Origen cordenada x\n",
    "y_1 = 9 #Origen cordenada y\n",
    "altura = 4 #quantes files\n",
    "llargada = 4 #quantes columnes\n",
    "a = dist = np.power(2,1/6) #distància de separacio\n",
    "npart = altura*llargada\n",
    "posicions = np.zeros((npart, 3))\n",
    "comptador = 0\n",
    "#mal escrit pero diu on han d'estar les coses\n",
    "for alt in range(altura):\n",
    "    for llar in range(llargada):\n",
    "        posicions[comptador] = np.array([x_1+a*alt,y_1+a*llar, 0.0])\n",
    "        comptador+=1\n",
    "\n"
   ]
  },
  {
   "cell_type": "code",
   "execution_count": 188,
   "metadata": {},
   "outputs": [
    {
     "data": {
      "text/plain": [
       "3"
      ]
     },
     "execution_count": 188,
     "metadata": {},
     "output_type": "execute_result"
    },
    {
     "data": {
      "image/png": "[encoded data removed]",
      "text/plain": [
       "<matplotlib.figure.Figure at 0x7f51612cc0b8>"
      ]
     },
     "metadata": {},
     "output_type": "display_data"
    }
   ],
   "source": [
    "fig, ax = plt.subplots()\n",
    "bound = 30\n",
    "plt.scatter(posicions[:,0],posicions[:,1], c = np.random.random(npart))\n",
    "for i, txt in enumerate(range(npart)):\n",
    "    pass\n",
    "    ax.annotate(txt, (posicions[i,0],posicions[i,1]))\n",
    "\"\"\"\n",
    "plt.xlim(0,bound)\n",
    "plt.ylim(0,bound)\n",
    "plt.title(\"Situació inicial del cristall dins la caixa\")\n",
    "\"\"\"\n",
    "3"
   ]
  },
  {
   "cell_type": "code",
   "execution_count": null,
   "metadata": {},
   "outputs": [],
   "source": []
  }
 ],
 "metadata": {
  "kernelspec": {
   "display_name": "Python 3",
   "language": "python",
   "name": "python3"
  },
  "language_info": {
   "codemirror_mode": {
    "name": "ipython",
    "version": 3
   },
   "file_extension": ".py",
   "mimetype": "text/x-python",
   "name": "python",
   "nbconvert_exporter": "python",
   "pygments_lexer": "ipython3",
   "version": "3.5.3"
  }
 },
 "nbformat": 4,
 "nbformat_minor": 2
}
