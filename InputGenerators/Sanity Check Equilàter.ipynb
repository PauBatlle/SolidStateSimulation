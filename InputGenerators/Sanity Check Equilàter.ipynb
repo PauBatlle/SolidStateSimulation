{
 "cells": [
  {
   "cell_type": "code",
   "execution_count": 7,
   "metadata": {},
   "outputs": [],
   "source": [
    "import matplotlib.pyplot as plt\n",
    "%matplotlib inline\n",
    "import numpy as np\n",
    "from math import sqrt"
   ]
  },
  {
   "cell_type": "code",
   "execution_count": 13,
   "metadata": {},
   "outputs": [],
   "source": [
    "temperatura = 8 #idea de l'energia inicial que tindra, anar cambiant\n",
    "m = 7 #masses\n",
    "x_1 = 5 #Origen cordenada x\n",
    "y_1 = 5 #Origen cordenada y\n",
    "altura = 10 #quantes files/2\n",
    "llargada = 8 #quantes columnes\n",
    "dist = 1 #distància de separacio\n",
    "npart = altura*llargada*2"
   ]
  },
  {
   "cell_type": "code",
   "execution_count": 15,
   "metadata": {},
   "outputs": [],
   "source": [
    "a = dist"
   ]
  },
  {
   "cell_type": "code",
   "execution_count": 16,
   "metadata": {},
   "outputs": [
    {
     "data": {
      "image/png": "[encoded data removed]",
      "text/plain": [
       "<matplotlib.figure.Figure at 0x7f9593718ac8>"
      ]
     },
     "metadata": {},
     "output_type": "display_data"
    }
   ],
   "source": [
    "for alt in range(1,altura+1):\n",
    "    for llar in range(1,llargada+1):\n",
    "        plt.scatter(x_1+llar*a, y_1+alt*sqrt(3))\n",
    "        plt.scatter(x_1+llar*a+a/2, y_1+a*alt*sqrt(3)+a*sqrt(3)/2)\n"
   ]
  },
  {
   "cell_type": "code",
   "execution_count": null,
   "metadata": {},
   "outputs": [],
   "source": []
  }
 ],
 "metadata": {
  "kernelspec": {
   "display_name": "Python 3",
   "language": "python",
   "name": "python3"
  },
  "language_info": {
   "codemirror_mode": {
    "name": "ipython",
    "version": 3
   },
   "file_extension": ".py",
   "mimetype": "text/x-python",
   "name": "python",
   "nbconvert_exporter": "python",
   "pygments_lexer": "ipython3",
   "version": "3.5.3"
  }
 },
 "nbformat": 4,
 "nbformat_minor": 2
}
