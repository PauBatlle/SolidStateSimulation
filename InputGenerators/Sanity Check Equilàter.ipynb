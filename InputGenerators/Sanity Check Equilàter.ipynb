{
 "cells": [
  {
   "cell_type": "code",
   "execution_count": 99,
   "metadata": {},
   "outputs": [],
   "source": [
    "import matplotlib.pyplot as plt\n",
    "%matplotlib inline\n",
    "import numpy as np\n",
    "from math import sqrt"
   ]
  },
  {
   "cell_type": "code",
   "execution_count": 107,
   "metadata": {},
   "outputs": [
    {
     "data": {
      "text/plain": [
       "1.122462048309373"
      ]
     },
     "execution_count": 107,
     "metadata": {},
     "output_type": "execute_result"
    }
   ],
   "source": [
    "a"
   ]
  },
  {
   "cell_type": "code",
   "execution_count": 108,
   "metadata": {},
   "outputs": [
    {
     "data": {
      "text/plain": [
       "1.122462048309373"
      ]
     },
     "execution_count": 108,
     "metadata": {},
     "output_type": "execute_result"
    }
   ],
   "source": [
    "dist"
   ]
  },
  {
   "cell_type": "code",
   "execution_count": 122,
   "metadata": {},
   "outputs": [],
   "source": [
    "m = 1 #masses\n",
    "x_1 = 2 #Origen cordenada x\n",
    "y_1 = 2 #Origen cordenada y\n",
    "altura = 2 #quantes files/2\n",
    "llargada = 5 #quantes columnes\n",
    "a = dist = np.power(2,1/6) #distància de separacio\n",
    "npart = altura*llargada*2\n",
    "posicions = np.zeros((npart, 3))\n",
    "comptador = 0\n",
    "#mal escrit pero diu on han d'estar les coses\n",
    "for alt in range(1,altura+1):\n",
    "    for llar in range(1,llargada+1):\n",
    "        posicions[comptador] = np.array([x_1+llar*a, y_1+alt*a*sqrt(3), 0.0])\n",
    "        comptador += 1\n",
    "\n",
    "for alt in range(1,altura+1):\n",
    "    for llar in range(1,llargada+1): \n",
    "        posicions[comptador] = np.array([x_1+llar*a+a/2, y_1+a*alt*sqrt(3)+a*sqrt(3)/2, 0.0])\n",
    "        comptador += 1\n"
   ]
  },
  {
   "cell_type": "code",
   "execution_count": 123,
   "metadata": {},
   "outputs": [
    {
     "name": "stdout",
     "output_type": "stream",
     "text": [
      "1 0 1.12246204831\n",
      "2 0 2.24492409662\n",
      "2 1 1.12246204831\n",
      "3 0 3.36738614493\n",
      "3 1 2.24492409662\n",
      "3 2 1.12246204831\n",
      "4 0 4.48984819324\n",
      "4 1 3.36738614493\n",
      "4 2 2.24492409662\n",
      "4 3 1.12246204831\n",
      "5 0 1.94416129724\n",
      "5 1 2.24492409662\n",
      "5 2 2.96975543593\n",
      "5 3 3.88832259448\n",
      "5 4 4.89269863654\n",
      "6 0 2.24492409662\n",
      "6 1 1.94416129724\n",
      "6 2 2.24492409662\n",
      "6 3 2.96975543593\n",
      "6 4 3.88832259448\n",
      "6 5 1.12246204831\n",
      "7 0 2.96975543593\n",
      "7 1 2.24492409662\n",
      "7 2 1.94416129724\n",
      "7 3 2.24492409662\n",
      "7 4 2.96975543593\n",
      "7 5 2.24492409662\n",
      "7 6 1.12246204831\n",
      "8 0 3.88832259448\n",
      "8 1 2.96975543593\n",
      "8 2 2.24492409662\n",
      "8 3 1.94416129724\n",
      "8 4 2.24492409662\n",
      "8 5 3.36738614493\n",
      "8 6 2.24492409662\n",
      "8 7 1.12246204831\n",
      "9 0 4.89269863654\n",
      "9 1 3.88832259448\n",
      "9 2 2.96975543593\n",
      "9 3 2.24492409662\n",
      "9 4 1.94416129724\n",
      "9 5 4.48984819324\n",
      "9 6 3.36738614493\n",
      "9 7 2.24492409662\n",
      "9 8 1.12246204831\n",
      "10 0 1.12246204831\n",
      "10 1 1.12246204831\n",
      "10 2 1.94416129724\n",
      "10 3 2.96975543593\n",
      "10 4 4.04709446994\n",
      "10 5 1.12246204831\n",
      "10 6 1.12246204831\n",
      "10 7 1.94416129724\n",
      "10 8 2.96975543593\n",
      "10 9 4.04709446994\n",
      "11 0 1.94416129724\n",
      "11 1 1.12246204831\n",
      "11 2 1.12246204831\n",
      "11 3 1.94416129724\n",
      "11 4 2.96975543593\n",
      "11 5 1.94416129724\n",
      "11 6 1.12246204831\n",
      "11 7 1.12246204831\n",
      "11 8 1.94416129724\n",
      "11 9 2.96975543593\n",
      "11 10 1.12246204831\n",
      "12 0 2.96975543593\n",
      "12 1 1.94416129724\n",
      "12 2 1.12246204831\n",
      "12 3 1.12246204831\n",
      "12 4 1.94416129724\n",
      "12 5 2.96975543593\n",
      "12 6 1.94416129724\n",
      "12 7 1.12246204831\n",
      "12 8 1.12246204831\n",
      "12 9 1.94416129724\n",
      "12 10 2.24492409662\n",
      "12 11 1.12246204831\n",
      "13 0 4.04709446994\n",
      "13 1 2.96975543593\n",
      "13 2 1.94416129724\n",
      "13 3 1.12246204831\n",
      "13 4 1.12246204831\n",
      "13 5 4.04709446994\n",
      "13 6 2.96975543593\n",
      "13 7 1.94416129724\n",
      "13 8 1.12246204831\n",
      "13 9 1.12246204831\n",
      "13 10 3.36738614493\n",
      "13 11 2.24492409662\n",
      "13 12 1.12246204831\n",
      "14 0 5.14376730109\n",
      "14 1 4.04709446994\n",
      "14 2 2.96975543593\n",
      "14 3 1.94416129724\n",
      "14 4 1.12246204831\n",
      "14 5 5.14376730109\n",
      "14 6 4.04709446994\n",
      "14 7 2.96975543593\n",
      "14 8 1.94416129724\n",
      "14 9 1.12246204831\n",
      "14 10 4.48984819324\n",
      "14 11 3.36738614493\n",
      "14 12 2.24492409662\n",
      "14 13 1.12246204831\n",
      "15 0 2.96975543593\n",
      "15 1 2.96975543593\n",
      "15 2 3.36738614493\n",
      "15 3 4.04709446994\n",
      "15 4 4.89269863654\n",
      "15 5 1.12246204831\n",
      "15 6 1.12246204831\n",
      "15 7 1.94416129724\n",
      "15 8 2.96975543593\n",
      "15 9 4.04709446994\n",
      "15 10 1.94416129724\n",
      "15 11 2.24492409662\n",
      "15 12 2.96975543593\n",
      "15 13 3.88832259448\n",
      "15 14 4.89269863654\n",
      "16 0 3.36738614493\n",
      "16 1 2.96975543593\n",
      "16 2 2.96975543593\n",
      "16 3 3.36738614493\n",
      "16 4 4.04709446994\n",
      "16 5 1.94416129724\n",
      "16 6 1.12246204831\n",
      "16 7 1.12246204831\n",
      "16 8 1.94416129724\n",
      "16 9 2.96975543593\n",
      "16 10 2.24492409662\n",
      "16 11 1.94416129724\n",
      "16 12 2.24492409662\n",
      "16 13 2.96975543593\n",
      "16 14 3.88832259448\n",
      "16 15 1.12246204831\n",
      "17 0 4.04709446994\n",
      "17 1 3.36738614493\n",
      "17 2 2.96975543593\n",
      "17 3 2.96975543593\n",
      "17 4 3.36738614493\n",
      "17 5 2.96975543593\n",
      "17 6 1.94416129724\n",
      "17 7 1.12246204831\n",
      "17 8 1.12246204831\n",
      "17 9 1.94416129724\n",
      "17 10 2.96975543593\n",
      "17 11 2.24492409662\n",
      "17 12 1.94416129724\n",
      "17 13 2.24492409662\n",
      "17 14 2.96975543593\n",
      "17 15 2.24492409662\n",
      "17 16 1.12246204831\n",
      "18 0 4.89269863654\n",
      "18 1 4.04709446994\n",
      "18 2 3.36738614493\n",
      "18 3 2.96975543593\n",
      "18 4 2.96975543593\n",
      "18 5 4.04709446994\n",
      "18 6 2.96975543593\n",
      "18 7 1.94416129724\n",
      "18 8 1.12246204831\n",
      "18 9 1.12246204831\n",
      "18 10 3.88832259448\n",
      "18 11 2.96975543593\n",
      "18 12 2.24492409662\n",
      "18 13 1.94416129724\n",
      "18 14 2.24492409662\n",
      "18 15 3.36738614493\n",
      "18 16 2.24492409662\n",
      "18 17 1.12246204831\n",
      "19 0 5.83248389172\n",
      "19 1 4.89269863654\n",
      "19 2 4.04709446994\n",
      "19 3 3.36738614493\n",
      "19 4 2.96975543593\n",
      "19 5 5.14376730109\n",
      "19 6 4.04709446994\n",
      "19 7 2.96975543593\n",
      "19 8 1.94416129724\n",
      "19 9 1.12246204831\n",
      "19 10 4.89269863654\n",
      "19 11 3.88832259448\n",
      "19 12 2.96975543593\n",
      "19 13 2.24492409662\n",
      "19 14 1.94416129724\n",
      "19 15 4.48984819324\n",
      "19 16 3.36738614493\n",
      "19 17 2.24492409662\n",
      "19 18 1.12246204831\n"
     ]
    }
   ],
   "source": [
    "for i in range(npart):\n",
    "    for j in range(i):\n",
    "        print(i, j, np.linalg.norm(posicions[i]-posicions[j]))"
   ]
  },
  {
   "cell_type": "code",
   "execution_count": 124,
   "metadata": {},
   "outputs": [
    {
     "data": {
      "image/png": "[encoded data removed]",
      "text/plain": [
       "<matplotlib.figure.Figure at 0x7f51614affd0>"
      ]
     },
     "metadata": {},
     "output_type": "display_data"
    }
   ],
   "source": [
    "fig, ax = plt.subplots()\n",
    "plt.scatter(posicions[:,0],posicions[:,1], c = np.random.random(npart))\n",
    "for i, txt in enumerate(range(npart)):\n",
    "    ax.annotate(txt, (posicions[i,0],posicions[i,1]))"
   ]
  }
 ],
 "metadata": {
  "kernelspec": {
   "display_name": "Python 3",
   "language": "python",
   "name": "python3"
  },
  "language_info": {
   "codemirror_mode": {
    "name": "ipython",
    "version": 3
   },
   "file_extension": ".py",
   "mimetype": "text/x-python",
   "name": "python",
   "nbconvert_exporter": "python",
   "pygments_lexer": "ipython3",
   "version": "3.5.3"
  }
 },
 "nbformat": 4,
 "nbformat_minor": 2
}
