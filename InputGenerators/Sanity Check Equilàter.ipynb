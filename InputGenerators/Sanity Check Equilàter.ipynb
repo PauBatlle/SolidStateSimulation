{
 "cells": [
  {
   "cell_type": "code",
   "execution_count": 99,
   "metadata": {},
   "outputs": [],
   "source": [
    "import matplotlib.pyplot as plt\n",
    "%matplotlib inline\n",
    "import numpy as np\n",
    "from math import sqrt"
   ]
  },
  {
   "cell_type": "code",
   "execution_count": 107,
   "metadata": {},
   "outputs": [
    {
     "data": {
      "text/plain": [
       "1.122462048309373"
      ]
     },
     "execution_count": 107,
     "metadata": {},
     "output_type": "execute_result"
    }
   ],
   "source": [
    "a"
   ]
  },
  {
   "cell_type": "code",
   "execution_count": 108,
   "metadata": {},
   "outputs": [
    {
     "data": {
      "text/plain": [
       "1.122462048309373"
      ]
     },
     "execution_count": 108,
     "metadata": {},
     "output_type": "execute_result"
    }
   ],
   "source": [
    "dist"
   ]
  },
  {
   "cell_type": "code",
   "execution_count": 114,
   "metadata": {},
   "outputs": [],
   "source": [
    "m = 1 #masses\n",
    "x_1 = 2 #Origen cordenada x\n",
    "y_1 = 2 #Origen cordenada y\n",
    "altura = 1 #quantes files/2\n",
    "llargada = 2 #quantes columnes\n",
    "a = dist = np.power(2,1/6) #distància de separacio\n",
    "npart = altura*llargada*2\n",
    "posicions = np.zeros((npart, 3))\n",
    "comptador = 0\n",
    "#mal escrit pero diu on han d'estar les coses\n",
    "for alt in range(1,altura+1):\n",
    "    for llar in range(1,llargada+1):\n",
    "        posicions[comptador] = np.array([x_1+llar*a, y_1+alt*sqrt(3), 0.0])\n",
    "        comptador += 1\n",
    "\n",
    "for alt in range(1,altura+1):\n",
    "    for llar in range(1,llargada+1): \n",
    "        posicions[comptador] = np.array([x_1+llar*a+a/2, y_1+a*alt*sqrt(3)+a*sqrt(3)/2, 0.0])\n",
    "        comptador += 1\n"
   ]
  },
  {
   "cell_type": "code",
   "execution_count": 115,
   "metadata": {},
   "outputs": [
    {
     "name": "stdout",
     "output_type": "stream",
     "text": [
      "1 0 1.12246204831\n",
      "2 0 1.31045370558\n",
      "2 1 1.31045370558\n",
      "3 0 2.05842925899\n",
      "3 1 1.31045370558\n",
      "3 2 1.12246204831\n"
     ]
    }
   ],
   "source": [
    "for i in range(npart):\n",
    "    for j in range(i):\n",
    "        print(i, j, np.linalg.norm(posicions[i]-posicions[j]))"
   ]
  },
  {
   "cell_type": "code",
   "execution_count": 116,
   "metadata": {},
   "outputs": [
    {
     "data": {
      "image/png": "[encoded data removed]",
      "text/plain": [
       "<matplotlib.figure.Figure at 0x7f5161464c18>"
      ]
     },
     "metadata": {},
     "output_type": "display_data"
    }
   ],
   "source": [
    "fig, ax = plt.subplots()\n",
    "plt.scatter(posicions[:,0],posicions[:,1], c = np.random.random(npart))\n",
    "for i, txt in enumerate(range(npart)):\n",
    "    ax.annotate(txt, (posicions[i,0],posicions[i,1]))"
   ]
  }
 ],
 "metadata": {
  "kernelspec": {
   "display_name": "Python 3",
   "language": "python",
   "name": "python3"
  },
  "language_info": {
   "codemirror_mode": {
    "name": "ipython",
    "version": 3
   },
   "file_extension": ".py",
   "mimetype": "text/x-python",
   "name": "python",
   "nbconvert_exporter": "python",
   "pygments_lexer": "ipython3",
   "version": "3.5.3"
  }
 },
 "nbformat": 4,
 "nbformat_minor": 2
}
