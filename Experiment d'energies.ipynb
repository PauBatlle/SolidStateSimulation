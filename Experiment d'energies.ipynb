{
 "cells": [
  {
   "cell_type": "code",
   "execution_count": 2,
   "metadata": {},
   "outputs": [],
   "source": [
    "import numpy as np\n",
    "import matplotlib.pyplot as plt\n",
    "import os"
   ]
  },
  {
   "cell_type": "code",
   "execution_count": 16,
   "metadata": {
    "scrolled": true
   },
   "outputs": [
    {
     "data": {
      "text/plain": [
       "['equilater18_T=0.0',\n",
       " 'equilater18_T=0.555555555556',\n",
       " 'equilater18_T=1.11111111111',\n",
       " 'equilater18_T=1.66666666667',\n",
       " 'equilater18_T=2.22222222222',\n",
       " 'equilater18_T=2.77777777778',\n",
       " 'equilater18_T=3.33333333333',\n",
       " 'equilater18_T=3.88888888889',\n",
       " 'equilater18_T=4.44444444444',\n",
       " 'equilater18_T=5.0']"
      ]
     },
     "execution_count": 16,
     "metadata": {},
     "output_type": "execute_result"
    }
   ],
   "source": [
    " sorted([i for i in os.listdir(\"InputsExpArino/\") if \"equilater\"+str(18) in i])"
   ]
  },
  {
   "cell_type": "code",
   "execution_count": 3,
   "metadata": {
    "scrolled": true
   },
   "outputs": [
    {
     "name": "stderr",
     "output_type": "stream",
     "text": [
      "2018-05-02 18:14:38,434 main Començant Experiment\n",
      "2018-05-02 18:14:38,435 input_reader Llegint dades d'entrada\n",
      "2018-05-02 18:14:38,436 input_reader El model equilater18_T=0.0 s'ha llegit correctament\n",
      "2018-05-02 18:14:38,437 main Comprovant si ja s'ha calculat la simulació\n",
      "2018-05-02 18:14:38,438 main No s'ha calculat, creant directori per guardar els resultats\n",
      "2018-05-02 18:14:38,439 main Començant simulació, 50000 iteracions, timestep = 0.0001\n",
      "100%|██████████| 50000/50000 [01:46<00:00, 468.19it/s]\n",
      "2018-05-02 18:16:25,235 main Guardant els resultats\n",
      "2018-05-02 18:16:25,245 main Simulació acabada correctament, processant resultats\n",
      "2018-05-02 18:16:25,466 main Preparant el video\n",
      "2018-05-02 18:17:59,027 main Preparant el video2\n",
      "2018-05-02 18:19:49,486 main Començant Experiment\n",
      "2018-05-02 18:19:49,487 input_reader Llegint dades d'entrada\n",
      "2018-05-02 18:19:49,488 input_reader El model equilater18_T=0.555555555556 s'ha llegit correctament\n",
      "2018-05-02 18:19:49,488 main Comprovant si ja s'ha calculat la simulació\n",
      "2018-05-02 18:19:49,489 main No s'ha calculat, creant directori per guardar els resultats\n",
      "2018-05-02 18:19:49,489 main Començant simulació, 50000 iteracions, timestep = 0.0001\n",
      "  0%|          | 41/50000 [00:00<02:04, 400.11it/s]"
     ]
    },
    {
     "name": "stdout",
     "output_type": "stream",
     "text": [
      "equilater18_T=0.0 0.0214292750421 -39.8539017859\n"
     ]
    },
    {
     "name": "stderr",
     "output_type": "stream",
     "text": [
      "100%|██████████| 50000/50000 [01:51<00:00, 449.16it/s]\n",
      "2018-05-02 18:21:40,811 main Guardant els resultats\n",
      "2018-05-02 18:21:40,821 main Simulació acabada correctament, processant resultats\n",
      "2018-05-02 18:21:40,894 main Preparant el video\n",
      "2018-05-02 18:23:30,804 main Preparant el video2\n",
      "2018-05-02 18:25:21,434 main Començant Experiment\n",
      "2018-05-02 18:25:21,435 input_reader Llegint dades d'entrada\n",
      "2018-05-02 18:25:21,436 input_reader El model equilater18_T=1.11111111111 s'ha llegit correctament\n",
      "2018-05-02 18:25:21,437 main Comprovant si ja s'ha calculat la simulació\n",
      "2018-05-02 18:25:21,437 main No s'ha calculat, creant directori per guardar els resultats\n",
      "2018-05-02 18:25:21,438 main Començant simulació, 50000 iteracions, timestep = 0.0001\n",
      "  0%|          | 45/50000 [00:00<01:52, 442.22it/s]"
     ]
    },
    {
     "name": "stdout",
     "output_type": "stream",
     "text": [
      "equilater18_T=0.555555555556 4.25579053128 -29.5216838854\n"
     ]
    },
    {
     "name": "stderr",
     "output_type": "stream",
     "text": [
      "100%|██████████| 50000/50000 [01:53<00:00, 439.11it/s]\n",
      "2018-05-02 18:27:15,308 main Guardant els resultats\n",
      "2018-05-02 18:27:15,317 main Simulació acabada correctament, processant resultats\n",
      "2018-05-02 18:27:15,395 main Preparant el video\n",
      "2018-05-02 18:29:07,951 main Preparant el video2\n",
      "2018-05-02 18:31:01,364 main Començant Experiment\n",
      "2018-05-02 18:31:01,365 input_reader Llegint dades d'entrada\n",
      "2018-05-02 18:31:01,365 input_reader El model equilater18_T=1.66666666667 s'ha llegit correctament\n",
      "2018-05-02 18:31:01,366 main Comprovant si ja s'ha calculat la simulació\n",
      "2018-05-02 18:31:01,366 main No s'ha calculat, creant directori per guardar els resultats\n",
      "2018-05-02 18:31:01,367 main Començant simulació, 50000 iteracions, timestep = 0.0001\n",
      "  0%|          | 42/50000 [00:00<02:00, 415.71it/s]"
     ]
    },
    {
     "name": "stdout",
     "output_type": "stream",
     "text": [
      "equilater18_T=1.11111111111 10.5435066195 -9.88561465804\n"
     ]
    },
    {
     "name": "stderr",
     "output_type": "stream",
     "text": [
      "100%|██████████| 50000/50000 [01:57<00:00, 424.06it/s]\n",
      "2018-05-02 18:32:59,277 main Guardant els resultats\n",
      "2018-05-02 18:32:59,287 main Simulació acabada correctament, processant resultats\n",
      "2018-05-02 18:32:59,396 main Preparant el video\n",
      "2018-05-02 18:35:17,238 main Preparant el video2\n",
      "2018-05-02 18:37:47,315 main Començant Experiment\n",
      "2018-05-02 18:37:47,316 input_reader Llegint dades d'entrada\n",
      "2018-05-02 18:37:47,317 input_reader El model equilater18_T=2.22222222222 s'ha llegit correctament\n",
      "2018-05-02 18:37:47,319 main Comprovant si ja s'ha calculat la simulació\n",
      "2018-05-02 18:37:47,321 main No s'ha calculat, creant directori per guardar els resultats\n",
      "2018-05-02 18:37:47,329 main Començant simulació, 50000 iteracions, timestep = 0.0001\n",
      "  0%|          | 40/50000 [00:00<02:07, 390.66it/s]"
     ]
    },
    {
     "name": "stdout",
     "output_type": "stream",
     "text": [
      "equilater18_T=1.66666666667 11.6038712373 -4.69968238691\n"
     ]
    },
    {
     "name": "stderr",
     "output_type": "stream",
     "text": [
      "100%|██████████| 50000/50000 [01:55<00:00, 432.57it/s]\n",
      "2018-05-02 18:39:42,920 main Guardant els resultats\n",
      "2018-05-02 18:39:42,931 main Simulació acabada correctament, processant resultats\n",
      "2018-05-02 18:39:43,006 main Preparant el video\n",
      "2018-05-02 18:41:22,242 main Preparant el video2\n",
      "2018-05-02 18:43:07,597 main Començant Experiment\n",
      "2018-05-02 18:43:07,598 input_reader Llegint dades d'entrada\n",
      "2018-05-02 18:43:07,598 input_reader El model equilater18_T=2.77777777778 s'ha llegit correctament\n",
      "2018-05-02 18:43:07,600 main Comprovant si ja s'ha calculat la simulació\n",
      "2018-05-02 18:43:07,601 main No s'ha calculat, creant directori per guardar els resultats\n",
      "2018-05-02 18:43:07,608 main Començant simulació, 50000 iteracions, timestep = 0.0001\n",
      "  0%|          | 45/50000 [00:00<01:52, 443.12it/s]"
     ]
    },
    {
     "name": "stdout",
     "output_type": "stream",
     "text": [
      "equilater18_T=2.22222222222 15.5257525492 0.431371737348\n"
     ]
    },
    {
     "name": "stderr",
     "output_type": "stream",
     "text": [
      "100%|██████████| 50000/50000 [01:47<00:00, 466.32it/s]\n",
      "2018-05-02 18:44:54,832 main Guardant els resultats\n",
      "2018-05-02 18:44:54,842 main Simulació acabada correctament, processant resultats\n",
      "2018-05-02 18:44:54,911 main Preparant el video\n",
      "2018-05-02 18:47:00,102 main Preparant el video2\n",
      "2018-05-02 18:48:45,398 main Començant Experiment\n",
      "2018-05-02 18:48:45,399 input_reader Llegint dades d'entrada\n",
      "2018-05-02 18:48:45,400 input_reader El model equilater18_T=3.33333333333 s'ha llegit correctament\n",
      "2018-05-02 18:48:45,400 main Comprovant si ja s'ha calculat la simulació\n",
      "2018-05-02 18:48:45,401 main No s'ha calculat, creant directori per guardar els resultats\n",
      "2018-05-02 18:48:45,407 main Començant simulació, 50000 iteracions, timestep = 0.0001\n",
      "  0%|          | 46/50000 [00:00<01:49, 455.90it/s]"
     ]
    },
    {
     "name": "stdout",
     "output_type": "stream",
     "text": [
      "equilater18_T=2.77777777778 21.9070341848 12.6480809848\n"
     ]
    },
    {
     "name": "stderr",
     "output_type": "stream",
     "text": [
      "100%|██████████| 50000/50000 [01:48<00:00, 459.62it/s]\n",
      "2018-05-02 18:50:34,195 main Guardant els resultats\n",
      "2018-05-02 18:50:34,205 main Simulació acabada correctament, processant resultats\n",
      "2018-05-02 18:50:34,274 main Preparant el video\n",
      "2018-05-02 18:52:02,350 main Preparant el video2\n",
      "2018-05-02 18:53:46,156 main Començant Experiment\n",
      "2018-05-02 18:53:46,157 input_reader Llegint dades d'entrada\n",
      "2018-05-02 18:53:46,158 input_reader El model equilater18_T=3.88888888889 s'ha llegit correctament\n",
      "2018-05-02 18:53:46,158 main Comprovant si ja s'ha calculat la simulació\n",
      "2018-05-02 18:53:46,159 main No s'ha calculat, creant directori per guardar els resultats\n",
      "2018-05-02 18:53:46,166 main Començant simulació, 50000 iteracions, timestep = 0.0001\n",
      "  0%|          | 44/50000 [00:00<01:55, 431.87it/s]"
     ]
    },
    {
     "name": "stdout",
     "output_type": "stream",
     "text": [
      "equilater18_T=3.33333333333 17.9710111219 0.217509027157\n"
     ]
    },
    {
     "name": "stderr",
     "output_type": "stream",
     "text": [
      "100%|██████████| 50000/50000 [01:49<00:00, 454.99it/s]\n",
      "2018-05-02 18:55:36,059 main Guardant els resultats\n",
      "2018-05-02 18:55:36,070 main Simulació acabada correctament, processant resultats\n",
      "2018-05-02 18:55:36,141 main Preparant el video\n",
      "2018-05-02 18:57:36,243 main Preparant el video2\n",
      "2018-05-02 18:59:25,134 main Començant Experiment\n",
      "2018-05-02 18:59:25,135 input_reader Llegint dades d'entrada\n",
      "2018-05-02 18:59:25,136 input_reader El model equilater18_T=4.44444444444 s'ha llegit correctament\n",
      "2018-05-02 18:59:25,137 main Comprovant si ja s'ha calculat la simulació\n",
      "2018-05-02 18:59:25,137 main No s'ha calculat, creant directori per guardar els resultats\n",
      "2018-05-02 18:59:25,146 main Començant simulació, 50000 iteracions, timestep = 0.0001\n",
      "  0%|          | 40/50000 [00:00<02:05, 397.69it/s]"
     ]
    },
    {
     "name": "stdout",
     "output_type": "stream",
     "text": [
      "equilater18_T=3.88888888889 34.9719172781 32.3933457163\n"
     ]
    },
    {
     "name": "stderr",
     "output_type": "stream",
     "text": [
      "100%|██████████| 50000/50000 [01:50<00:00, 450.49it/s]\n",
      "2018-05-02 19:01:16,137 main Guardant els resultats\n",
      "2018-05-02 19:01:16,147 main Simulació acabada correctament, processant resultats\n",
      "2018-05-02 19:01:16,216 main Preparant el video\n",
      "2018-05-02 19:03:11,082 main Preparant el video2\n",
      "2018-05-02 19:04:57,980 main Començant Experiment\n",
      "2018-05-02 19:04:57,980 input_reader Llegint dades d'entrada\n",
      "2018-05-02 19:04:57,981 input_reader El model equilater18_T=5.0 s'ha llegit correctament\n",
      "2018-05-02 19:04:57,982 main Comprovant si ja s'ha calculat la simulació\n",
      "2018-05-02 19:04:57,982 main No s'ha calculat, creant directori per guardar els resultats\n",
      "2018-05-02 19:04:57,989 main Començant simulació, 50000 iteracions, timestep = 0.0001\n",
      "  0%|          | 48/50000 [00:00<01:44, 478.90it/s]"
     ]
    },
    {
     "name": "stdout",
     "output_type": "stream",
     "text": [
      "equilater18_T=4.44444444444 41.9254128796 36.5205180531\n"
     ]
    },
    {
     "name": "stderr",
     "output_type": "stream",
     "text": [
      "100%|██████████| 50000/50000 [01:43<00:00, 483.04it/s]\n",
      "2018-05-02 19:06:41,504 main Guardant els resultats\n",
      "2018-05-02 19:06:41,513 main Simulació acabada correctament, processant resultats\n",
      "2018-05-02 19:06:41,588 main Preparant el video\n",
      "2018-05-02 19:08:13,774 main Preparant el video2\n"
     ]
    },
    {
     "name": "stdout",
     "output_type": "stream",
     "text": [
      "equilater18_T=5.0 53.9423246724 47.1452228482\n"
     ]
    }
   ],
   "source": [
    "cinetiques_finals3 = []\n",
    "totals_finals3 = []\n",
    "for i in sorted([i for i in os.listdir(\"InputsExpArino/\") if \"equilater\"+str(18) in i]):\n",
    "    s = \"main.py --input InputsExpArino/\" + i + \" --timestep 1e-4 --niter 50000\"\n",
    "    %run $s\n",
    "    ultimes = 1000\n",
    "    cin_final = np.mean(exp.cinetiques[-ultimes:])\n",
    "    total_final = np.mean(exp.cinetiques[-ultimes:]+exp.potencials[-ultimes:])\n",
    "    cinetiques_finals3.append(cin_final)\n",
    "    totals_finals3.append(total_final)\n",
    "    print(i, cin_final, total_final)"
   ]
  },
  {
   "cell_type": "code",
   "execution_count": 58,
   "metadata": {
    "scrolled": true
   },
   "outputs": [
    {
     "data": {
      "text/plain": [
       "[<matplotlib.lines.Line2D at 0x7f261ce9cb00>]"
      ]
     },
     "execution_count": 58,
     "metadata": {},
     "output_type": "execute_result"
    },
    {
     "data": {
      "image/png": "[encoded data removed]",
      "text/plain": [
       "<matplotlib.figure.Figure at 0x7f261cef1e10>"
      ]
     },
     "metadata": {},
     "output_type": "display_data"
    }
   ],
   "source": [
    "plt.plot(np.array(totals_finals2))"
   ]
  },
  {
   "cell_type": "code",
   "execution_count": 49,
   "metadata": {
    "scrolled": false
   },
   "outputs": [
    {
     "data": {
      "text/plain": [
       "[<matplotlib.lines.Line2D at 0x7f263c47d828>]"
      ]
     },
     "execution_count": 49,
     "metadata": {},
     "output_type": "execute_result"
    },
    {
     "data": {
      "image/png": "[encoded data removed]",
      "text/plain": [
       "<matplotlib.figure.Figure at 0x7f263c4c24e0>"
      ]
     },
     "metadata": {},
     "output_type": "display_data"
    }
   ],
   "source": [
    "plt.plot([cinetiques_finals[i]/totals_finals[i] for i in range(10)])"
   ]
  },
  {
   "cell_type": "code",
   "execution_count": 47,
   "metadata": {},
   "outputs": [],
   "source": [
    "cinetiques_finals = [0.281571190024, 366.584236546, 990.198639405, 1765.24535716, 2600.19319231, 2399.55883486, 2924.42914067, 3523.38621261,4805.12916753, 4719.7314816]"
   ]
  },
  {
   "cell_type": "code",
   "execution_count": 5,
   "metadata": {},
   "outputs": [
    {
     "data": {
      "text/plain": [
       "[0.021429275042114931,\n",
       " 4.2557905312830417,\n",
       " 10.543506619482825,\n",
       " 11.603871237345677,\n",
       " 15.525752549248482,\n",
       " 21.907034184797883,\n",
       " 17.971011121895486,\n",
       " 34.971917278074848,\n",
       " 41.925412879613866,\n",
       " 53.942324672357294]"
      ]
     },
     "execution_count": 5,
     "metadata": {},
     "output_type": "execute_result"
    }
   ],
   "source": [
    "cinetiques_finals3"
   ]
  },
  {
   "cell_type": "code",
   "execution_count": 6,
   "metadata": {
    "scrolled": true
   },
   "outputs": [
    {
     "data": {
      "text/plain": [
       "[-39.853901785895282,\n",
       " -29.521683885366699,\n",
       " -9.8856146580427282,\n",
       " -4.6996823869111495,\n",
       " 0.4313717373479406,\n",
       " 12.648080984777858,\n",
       " 0.21750902715723544,\n",
       " 32.393345716282788,\n",
       " 36.520518053117499,\n",
       " 47.145222848195452]"
      ]
     },
     "execution_count": 6,
     "metadata": {},
     "output_type": "execute_result"
    }
   ],
   "source": [
    "totals_finals3"
   ]
  },
  {
   "cell_type": "code",
   "execution_count": 13,
   "metadata": {},
   "outputs": [],
   "source": [
    "cinfin4 = []\n",
    "totfin4 = []\n",
    "for j in range(len(cinetiques_finals3)):\n",
    "    if j != 5:\n",
    "        cinfin4.append(cinetiques_finals3[j])\n",
    "        totfin4.append(totals_finals3[j])"
   ]
  },
  {
   "cell_type": "code",
   "execution_count": 17,
   "metadata": {},
   "outputs": [],
   "source": [
    "from sklearn import datasets, linear_model\n"
   ]
  },
  {
   "cell_type": "code",
   "execution_count": 21,
   "metadata": {},
   "outputs": [
    {
     "data": {
      "text/plain": [
       "[36.520518053117499, 47.145222848195452]"
      ]
     },
     "execution_count": 21,
     "metadata": {},
     "output_type": "execute_result"
    }
   ],
   "source": [
    "totfin4[-2:]"
   ]
  },
  {
   "cell_type": "code",
   "execution_count": 44,
   "metadata": {},
   "outputs": [],
   "source": [
    "x0 = np.array(totfin4[:3])"
   ]
  },
  {
   "cell_type": "code",
   "execution_count": 45,
   "metadata": {},
   "outputs": [],
   "source": [
    "y0 = np.array(cinfin4[:3])"
   ]
  },
  {
   "cell_type": "code",
   "execution_count": 46,
   "metadata": {},
   "outputs": [],
   "source": [
    "A = np.vstack([x0, np.ones(len(x0))]).T"
   ]
  },
  {
   "cell_type": "code",
   "execution_count": 47,
   "metadata": {},
   "outputs": [],
   "source": [
    "m2, c2 = np.linalg.lstsq(A, y0)[0]"
   ]
  },
  {
   "cell_type": "code",
   "execution_count": 48,
   "metadata": {},
   "outputs": [
    {
     "data": {
      "text/plain": [
       "(0.34704777660323621, 14.10938325699896)"
      ]
     },
     "execution_count": 48,
     "metadata": {},
     "output_type": "execute_result"
    }
   ],
   "source": [
    "m2,c2"
   ]
  },
  {
   "cell_type": "code",
   "execution_count": 39,
   "metadata": {},
   "outputs": [
    {
     "data": {
      "text/plain": [
       "[<matplotlib.lines.Line2D at 0x7f1aa63bef60>]"
      ]
     },
     "execution_count": 39,
     "metadata": {},
     "output_type": "execute_result"
    },
    {
     "data": {
      "image/png": "[encoded data removed]",
      "text/plain": [
       "<matplotlib.figure.Figure at 0x7f1abf279048>"
      ]
     },
     "metadata": {},
     "output_type": "display_data"
    }
   ],
   "source": []
  },
  {
   "cell_type": "code",
   "execution_count": 50,
   "metadata": {
    "scrolled": true
   },
   "outputs": [
    {
     "data": {
      "text/plain": [
       "Text(0,0.5,'Energia cinètica')"
      ]
     },
     "execution_count": 50,
     "metadata": {},
     "output_type": "execute_result"
    },
    {
     "data": {
      "image/png": "[encoded data removed]",
      "text/plain": [
       "<matplotlib.figure.Figure at 0x7f1abcf4e898>"
      ]
     },
     "metadata": {},
     "output_type": "display_data"
    }
   ],
   "source": [
    "%matplotlib inline\n",
    "plt.scatter(totfin4, cinfin4)\n",
    "plt.plot(xf, m*xf + c, 'r', label='Fitted line')\n",
    "plt.plot(x0, m2*x0 + c2, 'r', label='Fitted line')\n",
    "plt.title(\"Energia cinètica i energia total a l'equilibri\")\n",
    "plt.xlabel(\"Energia total\")\n",
    "plt.ylabel(\"Energia cinètica\")"
   ]
  },
  {
   "cell_type": "code",
   "execution_count": 46,
   "metadata": {},
   "outputs": [
    {
     "data": {
      "text/plain": [
       "[-132.75002150973566,\n",
       " 314.7098876400824,\n",
       " 952.90989294622932,\n",
       " 1744.6428855493477,\n",
       " 2605.2113831035426,\n",
       " 2442.6888984524776,\n",
       " 2935.0751986436026,\n",
       " 3585.9982058002929,\n",
       " 4872.9799402567651,\n",
       " 4913.3298975565876]"
      ]
     },
     "execution_count": 46,
     "metadata": {},
     "output_type": "execute_result"
    }
   ],
   "source": [
    "totals_finals"
   ]
  },
  {
   "cell_type": "code",
   "execution_count": 45,
   "metadata": {
    "scrolled": true
   },
   "outputs": [
    {
     "data": {
      "text/plain": [
       "[-132.75002150973566,\n",
       " 314.7098876400824,\n",
       " 952.90989294622932,\n",
       " 1744.6428855493477,\n",
       " 2605.2113831035426,\n",
       " 2442.6888984524776,\n",
       " 2935.0751986436026,\n",
       " 3585.9982058002929,\n",
       " 4872.9799402567651,\n",
       " 4913.3298975565876]"
      ]
     },
     "execution_count": 45,
     "metadata": {},
     "output_type": "execute_result"
    }
   ],
   "source": [
    "cinetiques_finals"
   ]
  },
  {
   "cell_type": "code",
   "execution_count": 44,
   "metadata": {
    "scrolled": true
   },
   "outputs": [
    {
     "data": {
      "text/plain": [
       "(4719.7314816008038, 4913.3298975565876)"
      ]
     },
     "execution_count": 44,
     "metadata": {},
     "output_type": "execute_result"
    }
   ],
   "source": [
    "cin_final, total_final"
   ]
  }
 ],
 "metadata": {
  "kernelspec": {
   "display_name": "Python 3",
   "language": "python",
   "name": "python3"
  },
  "language_info": {
   "codemirror_mode": {
    "name": "ipython",
    "version": 3
   },
   "file_extension": ".py",
   "mimetype": "text/x-python",
   "name": "python",
   "nbconvert_exporter": "python",
   "pygments_lexer": "ipython3",
   "version": "3.5.3"
  }
 },
 "nbformat": 4,
 "nbformat_minor": 2
}
